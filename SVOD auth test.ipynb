{
 "cells": [
  {
   "cell_type": "code",
   "execution_count": 84,
   "metadata": {
    "collapsed": false
   },
   "outputs": [
    {
     "name": "stdout",
     "output_type": "stream",
     "text": [
      "now = 1521720596\n",
      "rounded =  1521720300\n",
      "raw token =  8873791521711900b108a66f-1b11-483d-9fdf-29a77a886dbb\n",
      "token hash =  473895CA8601A117CA3484B524CE1E1F812480082C1CA820704CD5E5D8C1B62D\n",
      "authorization raw =  473895CA8601A117CA3484B524CE1E1F812480082C1CA820704CD5E5D8C1B62D:887379\n",
      "auth_base64 =  NDczODk1Q0E4NjAxQTExN0NBMzQ4NEI1MjRDRTFFMUY4MTI0ODAwODJDMUNBODIwNzA0Q0Q1RTVEOEMxQjYyRDo4ODczNzk=\n",
      "\"Successful created\"\n"
     ]
    }
   ],
   "source": [
    "import pandas as pd\n",
    "import time\n",
    "import hashlib\n",
    "import base64\n",
    "import requests\n",
    "import json\n",
    "import random\n",
    "\n",
    "now = int(time.time())\n",
    "print 'now =', now\n",
    "rounded_now = now - now % 300\n",
    "print 'rounded = ', rounded_now\n",
    "\n",
    "userid = '887379'\n",
    "\n",
    "app_key_response = requests.get('http://svod-reporting.azurewebsites.net/api/app-key', headers = {'http-user-agent': 'Apple'})\n",
    "app_key = app_key_response.text\n",
    "\n",
    "token_raw = '%s%s%s' % (userid, rounded_now, app_key)\n",
    "print 'raw token = ', raw_token\n",
    "\n",
    "token_hash = hashlib.sha256(token_raw).hexdigest().upper()\n",
    "print 'token hash = ', token_hash\n",
    "\n",
    "auth_raw = '%s:%s' % (token_hash, userid)\n",
    "print 'authorization raw = ', auth_raw\n",
    "auth_base64 = base64.b64encode(auth_raw)\n",
    "print 'auth_base64 = ', auth_base64\n",
    "\n",
    "headers = {\n",
    "    'http-user-agent': 'Apple',\n",
    "    'Authorization': auth_base64,\n",
    "    'content-type': 'application/json'\n",
    "}\n",
    "\n",
    "data = {\n",
    "    'showId': random.randint(1, 1000) \n",
    "}\n",
    "\n",
    "response = requests.post('http://svod-reporting.azurewebsites.net/api/nugsnet/reporting/', data = json.dumps(data), headers = headers)\n",
    "\n",
    "print(response.text)"
   ]
  }
 ],
 "metadata": {
  "kernelspec": {
   "display_name": "Python 2",
   "language": "python",
   "name": "python2"
  },
  "language_info": {
   "codemirror_mode": {
    "name": "ipython",
    "version": 2
   },
   "file_extension": ".py",
   "mimetype": "text/x-python",
   "name": "python",
   "nbconvert_exporter": "python",
   "pygments_lexer": "ipython2",
   "version": "2.7.13"
  }
 },
 "nbformat": 4,
 "nbformat_minor": 2
}
